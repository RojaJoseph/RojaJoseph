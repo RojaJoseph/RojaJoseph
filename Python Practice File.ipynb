{
 "cells": [
  {
   "cell_type": "markdown",
   "id": "f3f855a1-06ab-49b1-b5f9-09ae703ba0a0",
   "metadata": {},
   "source": [
    "## Print Name and Age?"
   ]
  },
  {
   "cell_type": "code",
   "execution_count": 1,
   "id": "8e3a9647-4e1f-4339-b8f4-17c82c3d40e9",
   "metadata": {},
   "outputs": [
    {
     "name": "stdin",
     "output_type": "stream",
     "text": [
      " roja\n",
      " 36\n"
     ]
    },
    {
     "name": "stdout",
     "output_type": "stream",
     "text": [
      "my name is: roja\n",
      "age: 36\n"
     ]
    }
   ],
   "source": [
    "name =input()\n",
    "age=input()\n",
    "print(\"my name is:\",name)\n",
    "print(\"age:\",age)"
   ]
  },
  {
   "cell_type": "markdown",
   "id": "2d9a08f8-7eff-4330-96ef-c2d947780dfa",
   "metadata": {},
   "source": [
    "# How to convert string into Integer?"
   ]
  },
  {
   "cell_type": "code",
   "execution_count": 2,
   "id": "9d22ac31-12c3-4fe0-9905-00dd1d1ff490",
   "metadata": {},
   "outputs": [
    {
     "name": "stdin",
     "output_type": "stream",
     "text": [
      " 565\n",
      " 965\n"
     ]
    },
    {
     "name": "stdout",
     "output_type": "stream",
     "text": [
      "1530\n"
     ]
    }
   ],
   "source": [
    "a=int(input())\n",
    "b=int(input())\n",
    "c=a+b\n",
    "print(c)"
   ]
  },
  {
   "cell_type": "markdown",
   "id": "e97e0b86-6892-4b22-951b-2526a867e0b5",
   "metadata": {},
   "source": [
    "### Get the out 1-multiply 2-add the variabale and dived by multiple/add"
   ]
  },
  {
   "cell_type": "code",
   "execution_count": 3,
   "id": "ec89ec79-86a0-481c-a3db-a2692f8e9c02",
   "metadata": {},
   "outputs": [
    {
     "name": "stdin",
     "output_type": "stream",
     "text": [
      " 45\n",
      " 32\n",
      " 12\n"
     ]
    },
    {
     "name": "stdout",
     "output_type": "stream",
     "text": [
      "194.1573033707865\n"
     ]
    }
   ],
   "source": [
    "a=int(input())\n",
    "b=int(input())\n",
    "c=int(input())\n",
    "d=a*b*c\n",
    "e=a+b+c\n",
    "f=d/e\n",
    "print(f)"
   ]
  },
  {
   "cell_type": "code",
   "execution_count": null,
   "id": "92ac78a6-0e56-471b-93ca-9d8ae3ced904",
   "metadata": {},
   "outputs": [],
   "source": [
    "# get input for variable name,score,department ,Get score for 100,divide 100/10"
   ]
  },
  {
   "cell_type": "code",
   "execution_count": 5,
   "id": "9285f3f4-abd3-43f0-aa6a-ff8bdffa7e11",
   "metadata": {},
   "outputs": [
    {
     "name": "stdin",
     "output_type": "stream",
     "text": [
      " roja\n",
      " 76\n",
      " english\n"
     ]
    },
    {
     "name": "stdout",
     "output_type": "stream",
     "text": [
      "My name is roja\n",
      "my score is 7.6\n",
      "my department is  english\n"
     ]
    }
   ],
   "source": [
    "name =input()\n",
    "score=int(input())\n",
    "department=input()\n",
    "print(\"My name is\",name)\n",
    "print(\"my score is\",score/10)\n",
    "print(\"my department is \",department)"
   ]
  },
  {
   "cell_type": "markdown",
   "id": "98427a55-80b7-4a0e-a8e3-c46921df2419",
   "metadata": {},
   "source": [
    "## if else,Boolean values,comparison"
   ]
  },
  {
   "cell_type": "code",
   "execution_count": 6,
   "id": "da313123-f27f-4d69-a4be-db654aa21c96",
   "metadata": {},
   "outputs": [
    {
     "name": "stdout",
     "output_type": "stream",
     "text": [
      "Meghana meets surya\n"
     ]
    }
   ],
   "source": [
    "name=\"Meghana\"\n",
    "if (name==\"Meghana\"):\n",
    "    print(\"Meghana meets surya\")\n",
    "\n",
    "else:\n",
    "    print(\"Meghana weds surya\")"
   ]
  },
  {
   "cell_type": "code",
   "execution_count": 7,
   "id": "9a1e10fb-a685-46ec-93ac-1b7be74864ac",
   "metadata": {},
   "outputs": [
    {
     "name": "stdout",
     "output_type": "stream",
     "text": [
      "Meghana weds surya\n"
     ]
    }
   ],
   "source": [
    "name=\"Died\"\n",
    "if (name==\"Meghana\"):\n",
    "    print(\"Meghana meets surya\")\n",
    "\n",
    "else:\n",
    "    print(\"Meghana weds surya\")"
   ]
  },
  {
   "cell_type": "markdown",
   "id": "3bcfdaa4-c895-4c77-8b46-6fb7c51ccfc4",
   "metadata": {},
   "source": [
    "## get the input variabale mark: if mark>35 print pass else faill"
   ]
  },
  {
   "cell_type": "code",
   "execution_count": 8,
   "id": "5de18a31-3672-420f-bb9d-07352f431b54",
   "metadata": {},
   "outputs": [
    {
     "name": "stdin",
     "output_type": "stream",
     "text": [
      " 45\n"
     ]
    },
    {
     "name": "stdout",
     "output_type": "stream",
     "text": [
      "PASS\n"
     ]
    }
   ],
   "source": [
    "mark=int(input())\n",
    "if mark>=35:\n",
    "    print(\"PASS\")\n",
    "\n",
    "else:(\"FAIL\")\n",
    "    "
   ]
  },
  {
   "cell_type": "code",
   "execution_count": 11,
   "id": "f8f74ac5-25de-4957-a802-fcdeb3deb805",
   "metadata": {},
   "outputs": [
    {
     "name": "stdin",
     "output_type": "stream",
     "text": [
      " 10\n"
     ]
    },
    {
     "name": "stdout",
     "output_type": "stream",
     "text": [
      "FAIL\n"
     ]
    }
   ],
   "source": [
    "mark=int(input())\n",
    "if mark>=35:\n",
    "    print(\"PASS\")\n",
    "else:\n",
    "    print(\"FAIL\")\n",
    "    "
   ]
  },
  {
   "cell_type": "markdown",
   "id": "fc4bdba5-3e58-4ef1-b296-1078a64f7389",
   "metadata": {},
   "source": [
    "# get the variable income.If income is greater than 7000 scholarship is available.else not eligible for scholarship."
   ]
  },
  {
   "cell_type": "markdown",
   "id": "ce3d7728-8785-4bb6-bf4b-fdb9077a1475",
   "metadata": {},
   "source": [
    "income=int(input())\n",
    "if income>=7000:\n",
    "    print(\"SCHOLARSHIP AVAILABLE\")\n",
    "else:\n",
    "    print(\"NOT ELIGIBLE\")"
   ]
  },
  {
   "cell_type": "code",
   "execution_count": 14,
   "id": "fa8aa83d-09bd-4b5a-ad1a-4bfa44e6f9cf",
   "metadata": {},
   "outputs": [
    {
     "name": "stdin",
     "output_type": "stream",
     "text": [
      " 4600\n"
     ]
    },
    {
     "name": "stdout",
     "output_type": "stream",
     "text": [
      "NOT ELIGIBLE\n"
     ]
    }
   ],
   "source": [
    "income=int(input())\n",
    "if income>=7000:\n",
    "    print(\"SCHOLARSHIP AVAILABLE\")\n",
    "else:\n",
    "    print(\"NOT ELIGIBLE\")"
   ]
  },
  {
   "cell_type": "markdown",
   "id": "a7804a59-dbb9-43b2-bcac-30a1ce830c9f",
   "metadata": {},
   "source": [
    "# NOTE = % THIS SYMBOL USE TO DIVIDE AND GET THE REMAINDER FROM THE CODING\n",
    "# Get the input for the number and check wheather its divisible by 3 or 5 or not.If yes print divisible by 3 and 5 ,\n",
    "# else print the no is not divisible by 3 and 5."
   ]
  },
  {
   "cell_type": "code",
   "execution_count": 15,
   "id": "b32d793f-20d8-4593-b9e2-64c299195349",
   "metadata": {},
   "outputs": [
    {
     "name": "stdin",
     "output_type": "stream",
     "text": [
      " 15\n"
     ]
    },
    {
     "name": "stdout",
     "output_type": "stream",
     "text": [
      "divisible by 3\n"
     ]
    }
   ],
   "source": [
    "a=int(input())\n",
    "if a%3==0:\n",
    "    print(\"divisible by 3\")\n",
    "else:\n",
    "    print(\"not divisible by 3\")"
   ]
  },
  {
   "cell_type": "code",
   "execution_count": 16,
   "id": "a2cfc727-d308-44d6-838b-7d1906124347",
   "metadata": {},
   "outputs": [
    {
     "name": "stdin",
     "output_type": "stream",
     "text": [
      " 19\n"
     ]
    },
    {
     "name": "stdout",
     "output_type": "stream",
     "text": [
      "not divisible by 3\n"
     ]
    }
   ],
   "source": [
    "a=int(input())\n",
    "if a%3==0:\n",
    "    print(\"divisible by 3\")\n",
    "else:\n",
    "    print(\"not divisible by 3\")"
   ]
  },
  {
   "cell_type": "code",
   "execution_count": 22,
   "id": "cc5a4af1-0d46-494e-bc94-7d32004a49f0",
   "metadata": {},
   "outputs": [
    {
     "name": "stdin",
     "output_type": "stream",
     "text": [
      " 15\n"
     ]
    },
    {
     "name": "stdout",
     "output_type": "stream",
     "text": [
      "divisible by 3 and 5\n"
     ]
    }
   ],
   "source": [
    "a=int(input())\n",
    "if a%3==0 and a%5==0:\n",
    "    print(\"divisible by 3 and 5\")\n",
    "else:\n",
    "    print(\"not divisible by 3 and 5\")"
   ]
  },
  {
   "cell_type": "code",
   "execution_count": 23,
   "id": "3dc215ce-33cb-4adc-8cc0-c09223f4a891",
   "metadata": {},
   "outputs": [
    {
     "name": "stdin",
     "output_type": "stream",
     "text": [
      " 12\n"
     ]
    },
    {
     "name": "stdout",
     "output_type": "stream",
     "text": [
      "not divisible by 3 and 5\n"
     ]
    }
   ],
   "source": [
    "a = int(input())\n",
    "if a%3==0 and a%5==0:\n",
    "    print(\"divisible by 3 and 5\")\n",
    "else:\n",
    "    print(\"not divisible by 3 and 5\")"
   ]
  },
  {
   "cell_type": "markdown",
   "id": "63365094-d84b-4e4a-a669-21091f8d4dfc",
   "metadata": {},
   "source": [
    "# get the input for the number and find its odd or even."
   ]
  },
  {
   "cell_type": "code",
   "execution_count": 17,
   "id": "93a74e82-82ff-48fc-a698-e9a6d8b8c8b7",
   "metadata": {},
   "outputs": [
    {
     "name": "stdout",
     "output_type": "stream",
     "text": [
      "EVEN\n"
     ]
    }
   ],
   "source": [
    "a =20\n",
    "if a%2==0:\n",
    "    print(\"EVEN\")\n",
    "else:\n",
    "    print(\"ODD\")"
   ]
  },
  {
   "cell_type": "code",
   "execution_count": 19,
   "id": "e2e74364-e594-451b-a689-ed5ace1d6adb",
   "metadata": {},
   "outputs": [
    {
     "name": "stdin",
     "output_type": "stream",
     "text": [
      " 19\n"
     ]
    },
    {
     "name": "stdout",
     "output_type": "stream",
     "text": [
      "ODD\n"
     ]
    }
   ],
   "source": [
    "a=int(input())\n",
    "if a%3==0:\n",
    "    print(\"EVEN\")\n",
    "else:\n",
    "    print(\"ODD\")"
   ]
  },
  {
   "cell_type": "code",
   "execution_count": 24,
   "id": "a9e2122f-c269-432d-a44f-f6c2767d0275",
   "metadata": {},
   "outputs": [],
   "source": [
    "# get the input score for 100,\n",
    "# if score is <35 poor student,\n",
    "# if score greater than 35 < than 70 average student\n",
    "# if score > 70 gud student"
   ]
  },
  {
   "cell_type": "code",
   "execution_count": 28,
   "id": "7f499509-ccd7-4cfd-b23f-93f6f05b777c",
   "metadata": {},
   "outputs": [
    {
     "name": "stdin",
     "output_type": "stream",
     "text": [
      " 67\n"
     ]
    },
    {
     "name": "stdout",
     "output_type": "stream",
     "text": [
      "Average Student\n"
     ]
    }
   ],
   "source": [
    "a = int(input())\n",
    "if a<=35:\n",
    "    print(\"Poor Student\")\n",
    "if a>35 and a<70:\n",
    "    print(\"Average Student\")\n",
    "if a >70:\n",
    "    print(\"Good Student\")"
   ]
  },
  {
   "cell_type": "code",
   "execution_count": 29,
   "id": "3c079de5-ad5b-49d2-9fd2-352b29788f0b",
   "metadata": {},
   "outputs": [
    {
     "name": "stdin",
     "output_type": "stream",
     "text": [
      " 90\n"
     ]
    },
    {
     "name": "stdout",
     "output_type": "stream",
     "text": [
      "Good Student\n"
     ]
    }
   ],
   "source": [
    "a = int(input())\n",
    "if a<=35:\n",
    "    print(\"Poor Student\")\n",
    "if a>35 and a<70:\n",
    "    print(\"Average Student\")\n",
    "if a >70:\n",
    "    print(\"Good Student\")"
   ]
  },
  {
   "cell_type": "code",
   "execution_count": 30,
   "id": "ff087633-b901-4aa2-8eb5-a7ced0be29b2",
   "metadata": {},
   "outputs": [
    {
     "name": "stdin",
     "output_type": "stream",
     "text": [
      " 16\n"
     ]
    },
    {
     "name": "stdout",
     "output_type": "stream",
     "text": [
      "Poor Student\n"
     ]
    }
   ],
   "source": [
    "a = int(input())\n",
    "if a<=35:\n",
    "    print(\"Poor Student\")\n",
    "if a>35 and a<70:\n",
    "    print(\"Average Student\")\n",
    "if a >70:\n",
    "    print(\"Good Student\")"
   ]
  },
  {
   "cell_type": "markdown",
   "id": "76ec362b-62fc-462b-870e-57ca93753a60",
   "metadata": {},
   "source": [
    "# to make it simple we r using \"ELIF\" concept"
   ]
  },
  {
   "cell_type": "code",
   "execution_count": 31,
   "id": "16b19394-4ac7-4a46-b232-30ed81b50dbb",
   "metadata": {},
   "outputs": [
    {
     "name": "stdin",
     "output_type": "stream",
     "text": [
      " 56\n"
     ]
    },
    {
     "name": "stdout",
     "output_type": "stream",
     "text": [
      "Average Student\n"
     ]
    }
   ],
   "source": [
    "a = int(input())\n",
    "if a<=35:\n",
    "    print(\"Poor Student\")\n",
    "elif a>35 and a<70:\n",
    "    print(\"Average Student\")\n",
    "else:\n",
    "    print(\"Good Student\")"
   ]
  },
  {
   "cell_type": "code",
   "execution_count": 32,
   "id": "29141d7a-d02c-4ccb-99db-cc6c0ac0969f",
   "metadata": {},
   "outputs": [
    {
     "name": "stdin",
     "output_type": "stream",
     "text": [
      " 90\n"
     ]
    },
    {
     "name": "stdout",
     "output_type": "stream",
     "text": [
      "Good Student\n"
     ]
    }
   ],
   "source": [
    "a = int(input())\n",
    "if a<=35:\n",
    "    print(\"Poor Student\")\n",
    "elif a>35 and a<70:\n",
    "    print(\"Average Student\")\n",
    "else:\n",
    "    print(\"Good Student\")"
   ]
  },
  {
   "cell_type": "markdown",
   "id": "8aa76175-b924-4076-aca4-f6f91b9bf7d0",
   "metadata": {},
   "source": [
    "# get mini calculator:"
   ]
  },
  {
   "cell_type": "code",
   "execution_count": 34,
   "id": "e892136c-dbee-455a-b393-613df4e52796",
   "metadata": {},
   "outputs": [
    {
     "name": "stdin",
     "output_type": "stream",
     "text": [
      " 13\n",
      " 15\n",
      "add/sub/mul/div add\n"
     ]
    },
    {
     "name": "stdout",
     "output_type": "stream",
     "text": [
      "28\n"
     ]
    }
   ],
   "source": [
    "a = int(input())\n",
    "b= int(input())\n",
    "solve = input(\"add/sub/mul/div\")\n",
    "if solve == \"add\":\n",
    "    print(a+b)\n",
    "elif solve == \"sub\":\n",
    "    print(a-b)\n",
    "elif solve==\"mul\":\n",
    "    print(a*b)\n",
    "elif solve == \"div\":\n",
    "    print(a%b)\n",
    "\n",
    "else:\n",
    "    print(\"NONE\")"
   ]
  },
  {
   "cell_type": "markdown",
   "id": "67835de2-4a22-41a2-bfc9-f32302ce35cc",
   "metadata": {},
   "source": [
    "# get input score percentage. if perc greater than 80get input his name,location,department.then print eligible.\n",
    "# if not print not eligible "
   ]
  },
  {
   "cell_type": "code",
   "execution_count": 36,
   "id": "ab359a56-ac3d-4ee4-9a45-f08e25eac5fe",
   "metadata": {},
   "outputs": [
    {
     "name": "stdin",
     "output_type": "stream",
     "text": [
      " 90\n",
      "may name is: roja\n",
      "my location: trichy\n",
      "my department: english\n"
     ]
    },
    {
     "name": "stdout",
     "output_type": "stream",
     "text": [
      "you are eligible\n"
     ]
    }
   ],
   "source": [
    "a= int(input())\n",
    "if a>=80:\n",
    "    name = input(\"may name is:\")\n",
    "    location = input(\"my location:\")\n",
    "    dep =input(\"my department:\")\n",
    "    print(\"you are eligible\")\n",
    "else:\n",
    "    print(\"not eligible\")"
   ]
  },
  {
   "cell_type": "code",
   "execution_count": 37,
   "id": "8821e4a9-36ac-4a30-b740-26d84383bbdf",
   "metadata": {},
   "outputs": [
    {
     "name": "stdin",
     "output_type": "stream",
     "text": [
      " 56\n"
     ]
    },
    {
     "name": "stdout",
     "output_type": "stream",
     "text": [
      "not eligible\n"
     ]
    }
   ],
   "source": [
    "a= int(input())\n",
    "if a>=80:\n",
    "    name = input(\"may name is:\")\n",
    "    location = input(\"my location:\")\n",
    "    dep =input(\"my department:\")\n",
    "    print(\"you are eligible\")\n",
    "else:\n",
    "    print(\"not eligible\")"
   ]
  },
  {
   "cell_type": "markdown",
   "id": "ece2475f-75e3-4499-9f60-ecd54f7f6d09",
   "metadata": {},
   "source": [
    "# if salary greater than 20000 or age less than 25 you are eligible for loan\n",
    "# if salary less than  500000 u r not eligible"
   ]
  },
  {
   "cell_type": "code",
   "execution_count": 38,
   "id": "5e6dcaac-756e-456f-968f-fec5c4b7282a",
   "metadata": {},
   "outputs": [
    {
     "name": "stdin",
     "output_type": "stream",
     "text": [
      " 30000\n",
      " 35\n"
     ]
    },
    {
     "name": "stdout",
     "output_type": "stream",
     "text": [
      "NOT ELIGIBLE\n"
     ]
    }
   ],
   "source": [
    "salary =int(input())\n",
    "age = int(input())\n",
    "if salary >=20000 and age <=25:\n",
    "    print(\"ELIGIBLE\")\n",
    "else:\n",
    "    print(\"NOT ELIGIBLE\")"
   ]
  },
  {
   "cell_type": "code",
   "execution_count": 39,
   "id": "c077ebe0-c5ce-4311-86bf-7ce9879e4d07",
   "metadata": {},
   "outputs": [
    {
     "name": "stdin",
     "output_type": "stream",
     "text": [
      " 45000\n",
      " 25\n"
     ]
    },
    {
     "name": "stdout",
     "output_type": "stream",
     "text": [
      "ELIGIBLE\n"
     ]
    }
   ],
   "source": [
    "salary =int(input())\n",
    "age = int(input())\n",
    "if salary >=20000 or age <=25:\n",
    "    print(\"ELIGIBLE\")\n",
    "else:\n",
    "    print(\"NOT ELIGIBLE\")"
   ]
  },
  {
   "cell_type": "markdown",
   "id": "1b84f78b-458e-4874-9787-b7e73e06e5d3",
   "metadata": {},
   "source": [
    "# Q: gET INPUT FOR FIVE SUBJECT MARKS,ADD AND FIND THE AVERAGE,IF AVAERAGE MARK IS LESS THAN 35 ,PRINT\" ADDITIONAL CLASS IS REQUIRED\n",
    "# ELSE \"YOU ARE GOOD TO GO"
   ]
  },
  {
   "cell_type": "code",
   "execution_count": 1,
   "id": "a13d3bca-a72a-4305-8a97-85803516ac94",
   "metadata": {},
   "outputs": [
    {
     "name": "stdin",
     "output_type": "stream",
     "text": [
      " 67\n",
      " 86\n",
      " 98\n",
      " 45\n",
      " 67\n"
     ]
    },
    {
     "name": "stdout",
     "output_type": "stream",
     "text": [
      "363\n"
     ]
    }
   ],
   "source": [
    "a= int(input())\n",
    "b=int(input())\n",
    "c=int(input())\n",
    "d=int(input())\n",
    "e=int(input())\n",
    "f=a+b+c+d+e\n",
    "print(f)"
   ]
  },
  {
   "cell_type": "code",
   "execution_count": 3,
   "id": "967f4b56-5ca8-4e39-986f-76515eb8bfb2",
   "metadata": {},
   "outputs": [
    {
     "name": "stdout",
     "output_type": "stream",
     "text": [
      "72.6\n"
     ]
    }
   ],
   "source": [
    "print(f/5)"
   ]
  },
  {
   "cell_type": "code",
   "execution_count": 5,
   "id": "4ac84959-4040-4f9c-babc-a6ca7628a505",
   "metadata": {},
   "outputs": [
    {
     "name": "stdout",
     "output_type": "stream",
     "text": [
      "YOU R READY TO GO\n"
     ]
    }
   ],
   "source": [
    "if f<35:\n",
    "    print(\"Additional class is Required\")\n",
    "else:\n",
    "    print(\"YOU R READY TO GO\")"
   ]
  },
  {
   "cell_type": "code",
   "execution_count": null,
   "id": "7dcb6eac-8c0e-42c9-b7a8-9e3e4f9470f5",
   "metadata": {},
   "outputs": [],
   "source": [
    "# q:HACKER RANK"
   ]
  },
  {
   "cell_type": "markdown",
   "id": "731b6567-c673-43b1-a7e5-1cace563d9db",
   "metadata": {},
   "source": [
    "# For Loop Explanation\n",
    "# i is a variable ,it brings and print the details\n"
   ]
  },
  {
   "cell_type": "code",
   "execution_count": 1,
   "id": "c219b998-c448-4615-8bc9-3ec88bf8b1d7",
   "metadata": {},
   "outputs": [
    {
     "name": "stdout",
     "output_type": "stream",
     "text": [
      "a\n",
      "p\n",
      "p\n",
      "l\n",
      "e\n"
     ]
    }
   ],
   "source": [
    "for i in \"apple\":\n",
    "    print(i)"
   ]
  },
  {
   "cell_type": "code",
   "execution_count": null,
   "id": "beb2dff5-2fd4-4669-99fd-3b1cb989060d",
   "metadata": {},
   "outputs": [],
   "source": [
    "# print 3 table using for loop"
   ]
  },
  {
   "cell_type": "code",
   "execution_count": 2,
   "id": "7ee735db-abd0-4067-825f-7eaedebf5555",
   "metadata": {},
   "outputs": [
    {
     "name": "stdout",
     "output_type": "stream",
     "text": [
      "1 x2= 3\n",
      "2 x2= 3\n",
      "3 x2= 3\n",
      "4 x2= 3\n",
      "5 x2= 3\n",
      "6 x2= 3\n",
      "7 x2= 3\n",
      "8 x2= 3\n",
      "9 x2= 3\n",
      "10 x2= 3\n"
     ]
    }
   ],
   "source": [
    "for i in range(1,11):\n",
    "    print(i,\"x2=\",1*3)"
   ]
  },
  {
   "cell_type": "code",
   "execution_count": 3,
   "id": "57efbd79-0470-43d6-aa17-ebeed742a00b",
   "metadata": {},
   "outputs": [
    {
     "name": "stdout",
     "output_type": "stream",
     "text": [
      "1 x4= 4\n",
      "2 x4= 8\n",
      "3 x4= 12\n",
      "4 x4= 16\n",
      "5 x4= 20\n",
      "6 x4= 24\n",
      "7 x4= 28\n",
      "8 x4= 32\n",
      "9 x4= 36\n",
      "10 x4= 40\n",
      "11 x4= 44\n",
      "12 x4= 48\n",
      "13 x4= 52\n",
      "14 x4= 56\n",
      "15 x4= 60\n",
      "16 x4= 64\n",
      "17 x4= 68\n",
      "18 x4= 72\n",
      "19 x4= 76\n",
      "20 x4= 80\n"
     ]
    }
   ],
   "source": [
    "for i in range(1,21):\n",
    "    print(i,\"x4=\",i*4)"
   ]
  },
  {
   "cell_type": "code",
   "execution_count": 4,
   "id": "073d4ded-386a-4b98-b0a5-3795c874c09e",
   "metadata": {},
   "outputs": [
    {
     "name": "stdout",
     "output_type": "stream",
     "text": [
      "1 x9= 9\n",
      "2 x9= 18\n",
      "3 x9= 27\n",
      "4 x9= 36\n",
      "5 x9= 45\n",
      "6 x9= 54\n",
      "7 x9= 63\n",
      "8 x9= 72\n",
      "9 x9= 81\n",
      "10 x9= 90\n",
      "11 x9= 99\n",
      "12 x9= 108\n",
      "13 x9= 117\n",
      "14 x9= 126\n",
      "15 x9= 135\n",
      "16 x9= 144\n",
      "17 x9= 153\n",
      "18 x9= 162\n",
      "19 x9= 171\n",
      "20 x9= 180\n"
     ]
    }
   ],
   "source": [
    "for i in range(1,21):\n",
    "    print(i,\"x9=\",i*9)\n",
    "    "
   ]
  },
  {
   "cell_type": "code",
   "execution_count": null,
   "id": "0ccc776f-15f4-41fe-940e-abd26ae2a285",
   "metadata": {},
   "outputs": [],
   "source": [
    "# q: Get the input for the number a and b\n",
    "# print the number between a and b"
   ]
  },
  {
   "cell_type": "code",
   "execution_count": 10,
   "id": "4b68229e-dcf4-40b8-8874-5935eeaf4909",
   "metadata": {},
   "outputs": [
    {
     "name": "stdin",
     "output_type": "stream",
     "text": [
      " 8\n",
      " 15\n"
     ]
    },
    {
     "name": "stdout",
     "output_type": "stream",
     "text": [
      "9\n",
      "10\n",
      "11\n",
      "12\n",
      "13\n",
      "14\n"
     ]
    }
   ],
   "source": [
    "a=int(input())\n",
    "b=int(input())\n",
    "for i in range(a+1,b):\n",
    "    print(i)\n"
   ]
  },
  {
   "cell_type": "code",
   "execution_count": 11,
   "id": "644adea3-fc82-47c4-9134-9c329fe86ba3",
   "metadata": {},
   "outputs": [
    {
     "name": "stdin",
     "output_type": "stream",
     "text": [
      " 2\n",
      " 20\n"
     ]
    },
    {
     "name": "stdout",
     "output_type": "stream",
     "text": [
      "4\n",
      "5\n",
      "6\n",
      "7\n",
      "8\n",
      "9\n",
      "10\n",
      "11\n",
      "12\n",
      "13\n",
      "14\n",
      "15\n",
      "16\n",
      "17\n",
      "18\n",
      "19\n"
     ]
    }
   ],
   "source": [
    "a=int(input())\n",
    "b=int(input())\n",
    "for i in range(a+2,b):\n",
    "    print(i)\n",
    "    "
   ]
  },
  {
   "cell_type": "code",
   "execution_count": null,
   "id": "b4ea6d4a-15de-427b-8b25-e53bee7cbbdb",
   "metadata": {},
   "outputs": [],
   "source": [
    "# Print Even and odd number using for loop and if "
   ]
  },
  {
   "cell_type": "code",
   "execution_count": 13,
   "id": "87e3bd51-a060-4304-b38d-41815418db80",
   "metadata": {},
   "outputs": [
    {
     "name": "stdout",
     "output_type": "stream",
     "text": [
      "2\n",
      "4\n",
      "6\n",
      "8\n",
      "10\n"
     ]
    }
   ],
   "source": [
    "for i in range(1,11):\n",
    "    if i%2==0:\n",
    "        print(i)"
   ]
  },
  {
   "cell_type": "code",
   "execution_count": 14,
   "id": "e277f72b-7b8c-4836-a234-e71dd531c8a9",
   "metadata": {},
   "outputs": [
    {
     "name": "stdout",
     "output_type": "stream",
     "text": [
      "12\n",
      "15\n",
      "18\n"
     ]
    }
   ],
   "source": [
    "for i in range(11,20):\n",
    "    if i%3==0:\n",
    "        print(i)"
   ]
  },
  {
   "cell_type": "markdown",
   "id": "b6361ca2-7e71-4420-95ba-947a66c2f674",
   "metadata": {},
   "source": [
    "# count the numbers of even number between 1,10"
   ]
  },
  {
   "cell_type": "code",
   "execution_count": 16,
   "id": "3f46d5cd-dbd6-4d4a-86a8-5e3d589c3b8d",
   "metadata": {},
   "outputs": [
    {
     "name": "stdout",
     "output_type": "stream",
     "text": [
      "4\n"
     ]
    }
   ],
   "source": [
    "count=0\n",
    "for i in range(1,10):\n",
    "    if i%2==0:\n",
    "        count=count+1\n",
    "print(count)\n",
    "    "
   ]
  },
  {
   "cell_type": "markdown",
   "id": "8105c417-844c-4d7d-b7f7-b0d02872a441",
   "metadata": {},
   "source": [
    "# count the numbers of odd and even number between 1,10"
   ]
  },
  {
   "cell_type": "code",
   "execution_count": 25,
   "id": "42a2d0ea-4284-4f5b-b004-011d1c71be07",
   "metadata": {},
   "outputs": [
    {
     "name": "stdout",
     "output_type": "stream",
     "text": [
      "5\n",
      "5\n"
     ]
    }
   ],
   "source": [
    "E_count=0\n",
    "O_count=0\n",
    "for i in range(1,11):\n",
    "    if i%2==0:\n",
    "        E_count=E_count+1\n",
    "    else:\n",
    "        O_count=O_count+1\n",
    "print(E_count)\n",
    "print(O_count)          "
   ]
  },
  {
   "cell_type": "markdown",
   "id": "79e3c067-28f3-4974-8cd2-c3f2a330300e",
   "metadata": {},
   "source": [
    "#Q:Count the number which are divisible by 3 and in the range of 1,100"
   ]
  },
  {
   "cell_type": "code",
   "execution_count": 26,
   "id": "c0c00ebf-b423-4b38-bf0c-8962961ee471",
   "metadata": {},
   "outputs": [
    {
     "name": "stdout",
     "output_type": "stream",
     "text": [
      "6\n"
     ]
    }
   ],
   "source": [
    "count=0\n",
    "for i in range(1,100):\n",
    "    if i%3==0 and i%5==0:\n",
    "        count=count+1\n",
    "print(count)        "
   ]
  },
  {
   "cell_type": "markdown",
   "id": "5bac670b-9bc1-4651-9a68-f0a061f58b12",
   "metadata": {},
   "source": [
    "# Understanding for loo with list"
   ]
  },
  {
   "cell_type": "code",
   "execution_count": null,
   "id": "5f36689e-e44d-441e-aefd-c06988d89b89",
   "metadata": {},
   "outputs": [],
   "source": [
    "# Q: WRITE THE PROGRAM TO COMPUTE THE SUM OF FIRST 5 NATURAL NUMBERS"
   ]
  },
  {
   "cell_type": "code",
   "execution_count": 27,
   "id": "44b62053-6dff-4573-bba9-3a0d9236d5cf",
   "metadata": {},
   "outputs": [
    {
     "name": "stdout",
     "output_type": "stream",
     "text": [
      "15\n"
     ]
    }
   ],
   "source": [
    "sum=0\n",
    "for i in range(1,6):\n",
    "    sum=sum+i\n",
    "print(sum)    "
   ]
  },
  {
   "cell_type": "code",
   "execution_count": 30,
   "id": "03ced8f1-c764-4765-9588-29fbcb564f1f",
   "metadata": {},
   "outputs": [
    {
     "name": "stdout",
     "output_type": "stream",
     "text": [
      "112\n"
     ]
    }
   ],
   "source": [
    "sum=0\n",
    "for i in range(13,20):\n",
    "    sum=sum+i\n",
    "print(sum)"
   ]
  },
  {
   "cell_type": "code",
   "execution_count": 31,
   "id": "397d012b-4925-4877-8289-e21863d99e22",
   "metadata": {},
   "outputs": [
    {
     "name": "stdout",
     "output_type": "stream",
     "text": [
      "950\n"
     ]
    }
   ],
   "source": [
    "sum=0\n",
    "for i in range(41,60):\n",
    "    sum=sum+i\n",
    "print(sum)   "
   ]
  },
  {
   "cell_type": "code",
   "execution_count": null,
   "id": "e8f80cd7-a6b5-4fda-a785-beed1a59a228",
   "metadata": {},
   "outputs": [],
   "source": [
    "# Q: Write a program to read 10 numbers from the keyboard and their sum and average\n",
    "# Using list"
   ]
  },
  {
   "cell_type": "code",
   "execution_count": 34,
   "id": "0f4c42e4-f57d-4915-9a11-528e7ec2c474",
   "metadata": {},
   "outputs": [
    {
     "name": "stdout",
     "output_type": "stream",
     "text": [
      "1\n",
      "2\n",
      "3\n",
      "4\n",
      "5\n",
      "6\n",
      "7\n",
      "8\n",
      "9\n",
      "10\n"
     ]
    }
   ],
   "source": [
    "a=[]\n",
    "a.append(10)\n",
    "for i in a:\n",
    "    \n",
    "    print(i)"
   ]
  },
  {
   "cell_type": "code",
   "execution_count": 59,
   "id": "35f0fa13-de52-408b-9164-da13a80573e7",
   "metadata": {},
   "outputs": [
    {
     "name": "stdout",
     "output_type": "stream",
     "text": [
      "[0, 1, 2, 3, 4, 5, 6, 7, 8, 9]\n",
      "45\n"
     ]
    }
   ],
   "source": [
    "a=[]\n",
    "for i in range (10):\n",
    "    a.append(i)\n",
    "print(a)   \n",
    "\n",
    "sum=0\n",
    "for i in a:\n",
    "    sum=sum+i\n",
    "print(sum)"
   ]
  },
  {
   "cell_type": "code",
   "execution_count": null,
   "id": "d165dfb1-fff8-4fc5-9647-c06b2a013930",
   "metadata": {},
   "outputs": [],
   "source": [
    "# Another Method "
   ]
  },
  {
   "cell_type": "code",
   "execution_count": 51,
   "id": "623f99fe-890a-4bb6-8373-ed29e55adffb",
   "metadata": {},
   "outputs": [
    {
     "name": "stdin",
     "output_type": "stream",
     "text": [
      "NUM1 1\n",
      "NUM2 2\n",
      "NUM3 3\n",
      "NUM4 4\n",
      "NUM5 5\n",
      "NUM6 5\n",
      "NUM7 5\n",
      "NUM8 6\n",
      "NUM9 7\n",
      "NUM10 7\n"
     ]
    },
    {
     "name": "stdout",
     "output_type": "stream",
     "text": [
      "[1, 2, 3, 4, 5, 5, 5, 6, 7, 7]\n"
     ]
    }
   ],
   "source": [
    "a=[]\n",
    "for i in range(10):\n",
    "    num=int(input(\"NUM\"+str(i+1)))\n",
    "    a.append(num)\n",
    "\n",
    "print(a)"
   ]
  },
  {
   "cell_type": "code",
   "execution_count": null,
   "id": "6e6cd4b7-6b32-4ea3-b442-d2b853509762",
   "metadata": {},
   "outputs": [],
   "source": [
    "# Q: write a program to display n terms of naturan numbers and their sum .TEST DATA :7 (1,2,3,4,5,6,7)"
   ]
  },
  {
   "cell_type": "code",
   "execution_count": 60,
   "id": "a61486cd-1dd8-464d-95fd-1b4f61ac660a",
   "metadata": {},
   "outputs": [
    {
     "name": "stdout",
     "output_type": "stream",
     "text": [
      "[0, 1, 2, 3, 4, 5, 6, 7]\n",
      "28\n"
     ]
    }
   ],
   "source": [
    "a=[]\n",
    "for i in range(8):\n",
    "    a.append(i)\n",
    "\n",
    "print(a)\n",
    "\n",
    "sum=0\n",
    "for i in a:\n",
    "    sum=sum+i\n",
    "\n",
    "print(sum)"
   ]
  },
  {
   "cell_type": "code",
   "execution_count": null,
   "id": "3fd84ca1-a08c-4077-ab7a-48c3e4495586",
   "metadata": {},
   "outputs": [],
   "source": [
    "# Q: Write a program to display a cube of number upto an integer\n",
    "# input =5\n"
   ]
  },
  {
   "cell_type": "code",
   "execution_count": 64,
   "id": "bbbcb9cd-7f6a-4bef-9dd3-547589dbf9eb",
   "metadata": {},
   "outputs": [
    {
     "name": "stdout",
     "output_type": "stream",
     "text": [
      "[1, 2, 3, 4, 5]\n",
      "3\n",
      "6\n",
      "9\n",
      "12\n",
      "15\n"
     ]
    }
   ],
   "source": [
    "a=[]\n",
    "for i in range(1,6):\n",
    "    a.append(i)\n",
    "\n",
    "print(a)\n",
    "for i in a:\n",
    "    print(i*3)\n"
   ]
  },
  {
   "cell_type": "markdown",
   "id": "1a282fb7-90d4-453c-b140-916243ee7b9e",
   "metadata": {},
   "source": [
    "# Nested For LOOP"
   ]
  },
  {
   "cell_type": "code",
   "execution_count": 68,
   "id": "177e7c67-365a-49bc-9903-06999c5a77f9",
   "metadata": {},
   "outputs": [
    {
     "name": "stdout",
     "output_type": "stream",
     "text": [
      "1 apple\n",
      "2 apple\n",
      "1 apple\n",
      "2 apple\n",
      "1 apple\n",
      "2 apple\n",
      "1 apple\n",
      "2 apple\n",
      "1 apple\n",
      "2 apple\n"
     ]
    }
   ],
   "source": [
    "for i in range(1,6):\n",
    "    for j in range(1,3):\n",
    "        print(j,\"apple\")"
   ]
  },
  {
   "cell_type": "code",
   "execution_count": 76,
   "id": "46aa6cea-499d-4cd4-b53b-413bbf5533bd",
   "metadata": {},
   "outputs": [
    {
     "name": "stdout",
     "output_type": "stream",
     "text": [
      "Week 1\n",
      "Day 1\n",
      "Day 2\n",
      "Day 3\n",
      "Week 2\n",
      "Day 1\n",
      "Day 2\n",
      "Day 3\n"
     ]
    }
   ],
   "source": [
    "for i in range(1,3):\n",
    "    print(\"Week\",i)\n",
    "    for j in range(1,4):\n",
    "        print(\"Day\",j)"
   ]
  },
  {
   "cell_type": "code",
   "execution_count": null,
   "id": "57c97408-03d3-4ffa-959e-d0eb4fb19f39",
   "metadata": {},
   "outputs": [],
   "source": [
    "# Q: *,**,***,**** .How to print these stars pattern in order:"
   ]
  },
  {
   "cell_type": "code",
   "execution_count": 79,
   "id": "4b717921-daad-4981-9b83-296328fe9b6b",
   "metadata": {},
   "outputs": [
    {
     "name": "stdout",
     "output_type": "stream",
     "text": [
      "*\n",
      "*\n",
      "*\n",
      "*\n",
      "*\n"
     ]
    }
   ],
   "source": [
    "for i in range(5):\n",
    "    print(\"*\")"
   ]
  },
  {
   "cell_type": "code",
   "execution_count": 80,
   "id": "d02c99be-074e-47d1-950e-d5026c79400d",
   "metadata": {},
   "outputs": [
    {
     "name": "stdout",
     "output_type": "stream",
     "text": [
      "*,*,*,*,*,"
     ]
    }
   ],
   "source": [
    "for i in range(5):\n",
    "    print(\"*\",end=\",\")"
   ]
  },
  {
   "cell_type": "code",
   "execution_count": 81,
   "id": "0bca254c-b030-458b-9fe4-0d68b38d171a",
   "metadata": {},
   "outputs": [
    {
     "name": "stdout",
     "output_type": "stream",
     "text": [
      "*/*/*/*/*/"
     ]
    }
   ],
   "source": [
    "for i in range(5):\n",
    "    print(\"*\",end=\"/\")"
   ]
  },
  {
   "cell_type": "code",
   "execution_count": 84,
   "id": "f599ad4a-a5ab-4bda-90d2-5242c2fe3fbd",
   "metadata": {},
   "outputs": [
    {
     "name": "stdout",
     "output_type": "stream",
     "text": [
      "\n",
      "\n",
      "1\n",
      "12\n",
      "123\n",
      "1234"
     ]
    }
   ],
   "source": [
    "for i in range(5):\n",
    "    print()\n",
    "    for j in range(1,i+1):\n",
    "        print(j,end=\"\")"
   ]
  },
  {
   "cell_type": "code",
   "execution_count": 99,
   "id": "e4b097f5-d30a-48b2-a11d-0e6a29f1939b",
   "metadata": {},
   "outputs": [
    {
     "name": "stdout",
     "output_type": "stream",
     "text": [
      "*\n",
      "*\n",
      "*\n",
      "**\n",
      "***\n",
      "***"
     ]
    }
   ],
   "source": [
    "for i in range(5):\n",
    "    print(\"*\")\n",
    "    for j in range(1,i):\n",
    "        print(\"*\",end=\"\")"
   ]
  },
  {
   "cell_type": "code",
   "execution_count": 3,
   "id": "79d4827b-6ec7-45d9-922f-6d40a0218de4",
   "metadata": {},
   "outputs": [
    {
     "name": "stdout",
     "output_type": "stream",
     "text": [
      "\n",
      "\n",
      "1\n",
      "12\n",
      "123\n",
      "1234"
     ]
    }
   ],
   "source": [
    "for i in range(5):\n",
    "    print()\n",
    "    for j in range(1,i+1):\n",
    "        print(j,end=\"\")"
   ]
  },
  {
   "cell_type": "code",
   "execution_count": null,
   "id": "95100116-6b2a-48df-904d-0d9b0ae99e6d",
   "metadata": {},
   "outputs": [],
   "source": [
    "# For loop is usually used when the number of iteration is known."
   ]
  },
  {
   "cell_type": "code",
   "execution_count": null,
   "id": "18440ee0-66ac-484d-95dc-671803164deb",
   "metadata": {},
   "outputs": [],
   "source": [
    "# While Loop is usually used when the number of iteration is unknown"
   ]
  },
  {
   "cell_type": "code",
   "execution_count": null,
   "id": "7a582cf9-b884-4c51-b1e4-d126253a9390",
   "metadata": {},
   "outputs": [],
   "source": [
    "# 1. Print the number from 1 to 5 using while loop\n",
    "# 2.Write a loop statement to print the following series 10,20,30,40,50........200.\n",
    "# 3.Write a program to print the first 10 natural numbers in reverse order.\n",
    "# 4.Write a program to find the factorial of a number.\n"
   ]
  },
  {
   "cell_type": "code",
   "execution_count": 7,
   "id": "259953b9-d9a6-4035-a909-a77de77fe5f0",
   "metadata": {},
   "outputs": [
    {
     "name": "stdout",
     "output_type": "stream",
     "text": [
      "0\n"
     ]
    }
   ],
   "source": [
    "i =0\n",
    "while i==0:\n",
    "    print(i)\n",
    "    i=i+1"
   ]
  },
  {
   "cell_type": "code",
   "execution_count": 9,
   "id": "62270564-4aa4-442b-ad56-2513b3a384a9",
   "metadata": {},
   "outputs": [],
   "source": [
    "i=5\n",
    "while i==0:\n",
    "    print(i)\n",
    "    i=i+1"
   ]
  },
  {
   "cell_type": "code",
   "execution_count": null,
   "id": "c5654b2a-dd95-43cf-a056-88061f4323d2",
   "metadata": {},
   "outputs": [],
   "source": [
    "# Q1 :Print the number from 1 to 5 using while loop\n"
   ]
  },
  {
   "cell_type": "code",
   "execution_count": 11,
   "id": "17ecc447-7de6-4815-bba0-d4a7d7c1b59e",
   "metadata": {},
   "outputs": [
    {
     "name": "stdout",
     "output_type": "stream",
     "text": [
      "1\n",
      "2\n",
      "3\n",
      "4\n"
     ]
    }
   ],
   "source": [
    "i=1\n",
    "while i<5:\n",
    "    print(i)\n",
    "    i=i+1"
   ]
  },
  {
   "cell_type": "code",
   "execution_count": 13,
   "id": "8c7f1e8a-3567-45b6-a828-5bbccee4e2bf",
   "metadata": {},
   "outputs": [
    {
     "name": "stdout",
     "output_type": "stream",
     "text": [
      "1\n",
      "2\n",
      "3\n",
      "4\n",
      "5\n",
      "6\n",
      "7\n",
      "8\n",
      "9\n"
     ]
    }
   ],
   "source": [
    "i=1\n",
    "while i<10:\n",
    "    print(i)\n",
    "    i=i+1"
   ]
  },
  {
   "cell_type": "code",
   "execution_count": 14,
   "id": "1866b0c3-4304-4b9d-848d-7c435c96ac8a",
   "metadata": {},
   "outputs": [
    {
     "name": "stdout",
     "output_type": "stream",
     "text": [
      "0\n",
      "1\n",
      "2\n",
      "3\n",
      "4\n"
     ]
    }
   ],
   "source": [
    "# Same Programme we can also use the for loop\n",
    "i=1\n",
    "for i in range(5):\n",
    "    print(i)"
   ]
  },
  {
   "cell_type": "code",
   "execution_count": 15,
   "id": "cd9b9506-8a78-431e-a64c-ac815c86f427",
   "metadata": {},
   "outputs": [
    {
     "name": "stdout",
     "output_type": "stream",
     "text": [
      "0\n",
      "1\n",
      "2\n",
      "3\n",
      "4\n",
      "5\n",
      "6\n",
      "7\n",
      "8\n",
      "9\n"
     ]
    }
   ],
   "source": [
    "i=1\n",
    "for i in range(10):\n",
    "    print(i)\n",
    "    "
   ]
  },
  {
   "cell_type": "code",
   "execution_count": null,
   "id": "7cc4b072-3146-4419-86d4-e3672a9d8770",
   "metadata": {},
   "outputs": [],
   "source": [
    "# 2.Write a loop statement to print the following series 10,20,30,40,50........200.\n"
   ]
  },
  {
   "cell_type": "code",
   "execution_count": 17,
   "id": "b708941d-fdf3-45ca-9afd-8abf21691ef3",
   "metadata": {},
   "outputs": [
    {
     "name": "stdout",
     "output_type": "stream",
     "text": [
      "10,20,30,40,50,60,70,80,90,100,110,120,130,140,150,160,170,180,190,200,"
     ]
    }
   ],
   "source": [
    "i=10\n",
    "while i<=200:\n",
    "    print(i,end=\",\")\n",
    "    i=i+10"
   ]
  },
  {
   "cell_type": "code",
   "execution_count": 18,
   "id": "38c2c079-b17e-4dcf-b837-d1ab8e773b25",
   "metadata": {},
   "outputs": [
    {
     "name": "stdout",
     "output_type": "stream",
     "text": [
      "2,4,6,8,10,12,14,16,18,20,22,24,26,28,30,32,34,36,38,40,42,44,46,48,50,52,54,56,58,60,62,64,66,68,70,72,74,76,78,80,82,84,86,88,90,92,94,96,98,100,102,104,106,108,110,112,114,116,118,120,122,124,126,128,130,132,134,136,138,140,142,144,146,148,150,152,154,156,158,160,162,164,166,168,170,172,174,176,178,180,182,184,186,188,190,192,194,196,198,200,"
     ]
    }
   ],
   "source": [
    "i=2\n",
    "while i<=200:\n",
    "    print(i,end=\",\")\n",
    "    i=i+2"
   ]
  },
  {
   "cell_type": "code",
   "execution_count": 19,
   "id": "53b7f3c7-f0d8-44a1-9d4f-a1bc07e755fe",
   "metadata": {},
   "outputs": [
    {
     "name": "stdout",
     "output_type": "stream",
     "text": [
      "0,1,2,3,4,5,6,7,8,9,10,11,12,13,14,15,16,17,18,19,20,21,22,23,24,25,26,27,28,29,30,31,32,33,34,35,36,37,38,39,40,41,42,43,44,45,46,47,48,49,50,51,52,53,54,55,56,57,58,59,60,61,62,63,64,65,66,67,68,69,70,71,72,73,74,75,76,77,78,79,80,81,82,83,84,85,86,87,88,89,90,91,92,93,94,95,96,97,98,99,100,101,102,103,104,105,106,107,108,109,110,111,112,113,114,115,116,117,118,119,120,121,122,123,124,125,126,127,128,129,130,131,132,133,134,135,136,137,138,139,140,141,142,143,144,145,146,147,148,149,150,151,152,153,154,155,156,157,158,159,160,161,162,163,164,165,166,167,168,169,170,171,172,173,174,175,176,177,178,179,180,181,182,183,184,185,186,187,188,189,190,191,192,193,194,195,196,197,198,199,"
     ]
    }
   ],
   "source": [
    "i=2\n",
    "for i in range(200):\n",
    "    print(i,end=\",\")\n",
    "    "
   ]
  },
  {
   "cell_type": "code",
   "execution_count": null,
   "id": "9305343c-7d98-49c9-9ddf-a10e543789e3",
   "metadata": {},
   "outputs": [],
   "source": [
    "# # 3.Write a program to print the first 10 natural numbers in reverse order.\n"
   ]
  },
  {
   "cell_type": "code",
   "execution_count": 24,
   "id": "bd6e0fe5-0b85-4fe9-8621-c24a479519ee",
   "metadata": {},
   "outputs": [
    {
     "name": "stdout",
     "output_type": "stream",
     "text": [
      "10,9,8,7,6,5,4,3,2,1,"
     ]
    }
   ],
   "source": [
    "i=10\n",
    "while i>0:\n",
    "    print(i,end=\",\")\n",
    "    i=i-1"
   ]
  },
  {
   "cell_type": "code",
   "execution_count": null,
   "id": "aba6cb41-f4a8-4b98-9444-9b7dbdb58485",
   "metadata": {},
   "outputs": [],
   "source": [
    "# 4.Write a program to find the factorial of a number.\n"
   ]
  },
  {
   "cell_type": "code",
   "execution_count": 25,
   "id": "7e068d75-d122-4541-8dda-eb88d05e9300",
   "metadata": {},
   "outputs": [
    {
     "name": "stdout",
     "output_type": "stream",
     "text": [
      "2\n"
     ]
    }
   ],
   "source": [
    "i=2\n",
    "fact=1\n",
    "while i>0:\n",
    "    fact=fact*i\n",
    "    i=i-1\n",
    "\n",
    "print(fact)"
   ]
  },
  {
   "cell_type": "code",
   "execution_count": 27,
   "id": "7e1e6700-2035-4c3c-bdc0-c48c261aab7d",
   "metadata": {},
   "outputs": [
    {
     "name": "stdout",
     "output_type": "stream",
     "text": [
      "6\n"
     ]
    }
   ],
   "source": [
    "i=3\n",
    "fact=1\n",
    "while i>0:\n",
    "    fact=fact*i\n",
    "    i=i-1\n",
    "\n",
    "print(fact)"
   ]
  },
  {
   "cell_type": "code",
   "execution_count": 28,
   "id": "9dee45b1-0080-477b-8d63-94780668acb6",
   "metadata": {},
   "outputs": [
    {
     "name": "stdout",
     "output_type": "stream",
     "text": [
      "120\n"
     ]
    }
   ],
   "source": [
    "i=5\n",
    "fact=1\n",
    "while i>0:\n",
    "    fact=fact*i\n",
    "    i=i-1\n",
    "\n",
    "print(fact)"
   ]
  },
  {
   "cell_type": "code",
   "execution_count": null,
   "id": "d181c99e-94c7-4227-b1dd-0015e57247c1",
   "metadata": {},
   "outputs": [],
   "source": [
    "## Python Collections(Arrays)\n",
    "# List = [] within square bracket is called list.\n",
    "# list allows duplicates,changeable,any type of data can be stored,\n",
    "# insert(),append(),extend(),pop()"
   ]
  },
  {
   "cell_type": "code",
   "execution_count": 29,
   "id": "ba639df3-c0c7-4423-8e7e-17bf39fe365e",
   "metadata": {},
   "outputs": [
    {
     "name": "stdout",
     "output_type": "stream",
     "text": [
      "[1, 2, 3, 4, 5]\n"
     ]
    }
   ],
   "source": [
    "a=[1,2,3,4,5]\n",
    "print(a)"
   ]
  },
  {
   "cell_type": "code",
   "execution_count": 35,
   "id": "63b8633c-490c-4126-a3fa-81bebb650cd2",
   "metadata": {},
   "outputs": [
    {
     "name": "stdout",
     "output_type": "stream",
     "text": [
      "[1, 2, 3, 4, 5, True, 70]\n"
     ]
    }
   ],
   "source": [
    "a=[1,2,3,4,5]\n",
    "a.append(True)\n",
    "a.append(70)\n",
    "print(a)"
   ]
  },
  {
   "cell_type": "code",
   "execution_count": 37,
   "id": "4db69e33-f386-4361-a417-ea83540b9973",
   "metadata": {},
   "outputs": [
    {
     "name": "stdout",
     "output_type": "stream",
     "text": [
      "2\n"
     ]
    }
   ],
   "source": [
    "a=[1,2,3,4,5,6,7,8,9]\n",
    "print(a[1]) # this help us to find the positin of the numbers"
   ]
  },
  {
   "cell_type": "code",
   "execution_count": 40,
   "id": "e394d48f-38ce-48ee-b1f6-f4d3013345a6",
   "metadata": {},
   "outputs": [
    {
     "name": "stdout",
     "output_type": "stream",
     "text": [
      "[11, 1, 2, 3, 4, 5, 6, 7, 8, 9]\n"
     ]
    }
   ],
   "source": [
    "a=[1,2,3,4,5,6,7,8,9]\n",
    "a.insert(0,11) # this help us to add the number wherever we want.\n",
    "print(a)"
   ]
  },
  {
   "cell_type": "code",
   "execution_count": 42,
   "id": "2c98b472-ac70-41b2-bc0c-b5262386b606",
   "metadata": {},
   "outputs": [
    {
     "name": "stdout",
     "output_type": "stream",
     "text": [
      "[1, 2, True, 3, 4, 5, 6, 7, 8, 9]\n"
     ]
    }
   ],
   "source": [
    "a=[1,2,3,4,5,6,7,8,9]\n",
    "a.insert(2,True)\n",
    "print(a)"
   ]
  },
  {
   "cell_type": "code",
   "execution_count": 44,
   "id": "15629cb1-58c2-43f2-9e0c-53a8f1c72674",
   "metadata": {},
   "outputs": [
    {
     "name": "stdout",
     "output_type": "stream",
     "text": [
      "[1, 2, 3, 4, 5, 6, 8, 9]\n"
     ]
    }
   ],
   "source": [
    "a=[1,2,3,4,5,6,7,8,9]\n",
    "a.pop(6) # this will help us to remove the element\n",
    "print(a)"
   ]
  },
  {
   "cell_type": "code",
   "execution_count": 46,
   "id": "6a6f61f0-c32f-472a-910b-af5903b43144",
   "metadata": {},
   "outputs": [
    {
     "name": "stdout",
     "output_type": "stream",
     "text": [
      "[12, 14, 16, 18, 20, 11, 13, 15, 17, 19]\n"
     ]
    }
   ],
   "source": [
    "a=[12,14,16,18,20]\n",
    "b=[11,13,15,17,19]\n",
    "a.extend(b) # this help us to merge the data\n",
    "print(a)"
   ]
  },
  {
   "cell_type": "code",
   "execution_count": null,
   "id": "c2221df5-4b91-47da-8cb0-0aa4c287f231",
   "metadata": {},
   "outputs": [],
   "source": [
    "# Tuple\n",
    "# duplicates allowd,any data type can be stored\n",
    "# but we cant add or remove,not changeable"
   ]
  },
  {
   "cell_type": "code",
   "execution_count": 51,
   "id": "6e0090d4-f68f-42a3-a9b1-8e7f2d758b03",
   "metadata": {},
   "outputs": [
    {
     "name": "stdout",
     "output_type": "stream",
     "text": [
      "(1, 2, 3, 4, 5)\n"
     ]
    }
   ],
   "source": [
    "a=(1,2,3,4,5)\n",
    "print(a)"
   ]
  },
  {
   "cell_type": "code",
   "execution_count": 52,
   "id": "17775a8e-10f7-4628-a919-87550360b189",
   "metadata": {},
   "outputs": [
    {
     "ename": "AttributeError",
     "evalue": "'tuple' object has no attribute 'pop'",
     "output_type": "error",
     "traceback": [
      "\u001b[1;31m---------------------------------------------------------------------------\u001b[0m",
      "\u001b[1;31mAttributeError\u001b[0m                            Traceback (most recent call last)",
      "Cell \u001b[1;32mIn[52], line 2\u001b[0m\n\u001b[0;32m      1\u001b[0m a\u001b[38;5;241m=\u001b[39m(\u001b[38;5;241m1\u001b[39m,\u001b[38;5;241m2\u001b[39m,\u001b[38;5;241m3\u001b[39m,\u001b[38;5;241m4\u001b[39m,\u001b[38;5;241m5\u001b[39m)\n\u001b[1;32m----> 2\u001b[0m \u001b[43ma\u001b[49m\u001b[38;5;241;43m.\u001b[39;49m\u001b[43mpop\u001b[49m()\n\u001b[0;32m      3\u001b[0m \u001b[38;5;28mprint\u001b[39m(a)\n",
      "\u001b[1;31mAttributeError\u001b[0m: 'tuple' object has no attribute 'pop'"
     ]
    }
   ],
   "source": [
    "a=(1,2,3,4,5)\n",
    "a.pop()\n",
    "print(a)"
   ]
  },
  {
   "cell_type": "code",
   "execution_count": 53,
   "id": "b39bca17-c3c2-44eb-a6c9-72a61814d27c",
   "metadata": {},
   "outputs": [
    {
     "ename": "AttributeError",
     "evalue": "'tuple' object has no attribute 'append'",
     "output_type": "error",
     "traceback": [
      "\u001b[1;31m---------------------------------------------------------------------------\u001b[0m",
      "\u001b[1;31mAttributeError\u001b[0m                            Traceback (most recent call last)",
      "Cell \u001b[1;32mIn[53], line 2\u001b[0m\n\u001b[0;32m      1\u001b[0m a\u001b[38;5;241m=\u001b[39m(\u001b[38;5;241m1\u001b[39m,\u001b[38;5;241m2\u001b[39m,\u001b[38;5;241m3\u001b[39m,\u001b[38;5;241m4\u001b[39m,\u001b[38;5;241m5\u001b[39m)\n\u001b[1;32m----> 2\u001b[0m \u001b[43ma\u001b[49m\u001b[38;5;241;43m.\u001b[39;49m\u001b[43mappend\u001b[49m(\u001b[38;5;241m6\u001b[39m)\n\u001b[0;32m      3\u001b[0m \u001b[38;5;28mprint\u001b[39m(a)\n",
      "\u001b[1;31mAttributeError\u001b[0m: 'tuple' object has no attribute 'append'"
     ]
    }
   ],
   "source": [
    "a=(1,2,3,4,5)\n",
    "a.append(6)\n",
    "print(a)"
   ]
  },
  {
   "cell_type": "code",
   "execution_count": 54,
   "id": "4b72680a-be8a-4f8f-92cb-1e47474911a8",
   "metadata": {},
   "outputs": [
    {
     "name": "stdout",
     "output_type": "stream",
     "text": [
      "[10, 20, 30, 40]\n"
     ]
    }
   ],
   "source": [
    "a=(10,20,30,40)\n",
    "b=list(a) # we can change into list and we can do the modification\n",
    "\n",
    "print(b)"
   ]
  },
  {
   "cell_type": "code",
   "execution_count": null,
   "id": "590b0c5c-b0b4-4361-954b-9297d74cc92b",
   "metadata": {},
   "outputs": [],
   "source": []
  },
  {
   "cell_type": "code",
   "execution_count": null,
   "id": "3658107f-44b8-4002-adde-d88a489fcedb",
   "metadata": {},
   "outputs": [],
   "source": [
    "# set{}\n",
    "# dont allowed duplicates,any type of data can be stored\n",
    "# we cant modify but we can add or remove"
   ]
  },
  {
   "cell_type": "code",
   "execution_count": 55,
   "id": "313ad2a3-88e8-4a9a-abd7-d4d93886ec53",
   "metadata": {},
   "outputs": [
    {
     "name": "stdout",
     "output_type": "stream",
     "text": [
      "{1, 2, 3, 4, 5}\n"
     ]
    }
   ],
   "source": [
    "a={1,2,3,4,5}\n",
    "print(a)"
   ]
  },
  {
   "cell_type": "code",
   "execution_count": 56,
   "id": "6bf859e2-cdfe-4b58-82bf-982b943d0912",
   "metadata": {},
   "outputs": [
    {
     "name": "stdout",
     "output_type": "stream",
     "text": [
      "{1, 2, 3, 4, 5, 10}\n"
     ]
    }
   ],
   "source": [
    "a.add(10)\n",
    "print(a)"
   ]
  },
  {
   "cell_type": "code",
   "execution_count": 58,
   "id": "710a2170-7d90-4124-b91e-b46a6f6b692e",
   "metadata": {},
   "outputs": [
    {
     "name": "stdout",
     "output_type": "stream",
     "text": [
      "{1, 2, 3, 4, 5, 6, 7, 8}\n"
     ]
    }
   ],
   "source": [
    "a={1,2,3,4,4,5,7,7,6,8}\n",
    "print(a)"
   ]
  },
  {
   "cell_type": "code",
   "execution_count": null,
   "id": "bc11a880-7851-4ca4-8721-bc0a758f7489",
   "metadata": {},
   "outputs": [],
   "source": [
    "# dictionary{}"
   ]
  },
  {
   "cell_type": "code",
   "execution_count": 61,
   "id": "91f8eee5-3b57-4e88-8522-bf9a57bd403b",
   "metadata": {},
   "outputs": [
    {
     "name": "stdout",
     "output_type": "stream",
     "text": [
      "{'name': 'roja', 'age': '35', 'Location': 'Trichy'}\n"
     ]
    }
   ],
   "source": [
    "a={\n",
    "    \"name\":\"roja\",\n",
    "    \"age\":\"35\",\n",
    "    \"Location\":\"Trichy\"\n",
    "}\n",
    "print(a)\n",
    "\n",
    "# its also called as key value pairs "
   ]
  },
  {
   "cell_type": "code",
   "execution_count": 65,
   "id": "7a800fde-bead-403a-82c4-b4d4949149a6",
   "metadata": {},
   "outputs": [
    {
     "name": "stdout",
     "output_type": "stream",
     "text": [
      "dict_keys(['name', 'age', 'Location'])\n"
     ]
    }
   ],
   "source": [
    "a={\n",
    "    \"name\":\"roja\",\n",
    "    \"age\":\"35\",\n",
    "    \"Location\":\"Trichy\"\n",
    "}\n",
    "\n",
    "print(a.keys())"
   ]
  },
  {
   "cell_type": "code",
   "execution_count": 68,
   "id": "76523719-67ef-4605-bcf5-1a410c442e87",
   "metadata": {},
   "outputs": [
    {
     "name": "stdout",
     "output_type": "stream",
     "text": [
      "{'name': 'belina', 'age': '35', 'Location': 'Trichy'}\n"
     ]
    }
   ],
   "source": [
    "a[\"name\"]=\"belina\"\n",
    "print(a)"
   ]
  },
  {
   "cell_type": "code",
   "execution_count": 70,
   "id": "cac02ae7-ee92-4090-8428-7a46afb0479e",
   "metadata": {},
   "outputs": [
    {
     "ename": "KeyError",
     "evalue": "'age'",
     "output_type": "error",
     "traceback": [
      "\u001b[1;31m---------------------------------------------------------------------------\u001b[0m",
      "\u001b[1;31mKeyError\u001b[0m                                  Traceback (most recent call last)",
      "Cell \u001b[1;32mIn[70], line 1\u001b[0m\n\u001b[1;32m----> 1\u001b[0m \u001b[43ma\u001b[49m\u001b[38;5;241;43m.\u001b[39;49m\u001b[43mpop\u001b[49m\u001b[43m(\u001b[49m\u001b[38;5;124;43m\"\u001b[39;49m\u001b[38;5;124;43mage\u001b[39;49m\u001b[38;5;124;43m\"\u001b[39;49m\u001b[43m)\u001b[49m\n\u001b[0;32m      2\u001b[0m \u001b[38;5;28mprint\u001b[39m(a)\n",
      "\u001b[1;31mKeyError\u001b[0m: 'age'"
     ]
    }
   ],
   "source": [
    "a.pop(\"age\")\n",
    "print(a)"
   ]
  },
  {
   "cell_type": "code",
   "execution_count": null,
   "id": "5ca21f20-de30-4794-8099-4c4456fc39c9",
   "metadata": {},
   "outputs": [],
   "source": [
    "# Functions of Python"
   ]
  },
  {
   "cell_type": "code",
   "execution_count": 72,
   "id": "43dfaa79-a1b1-4e13-b237-e211918884d7",
   "metadata": {},
   "outputs": [
    {
     "name": "stdout",
     "output_type": "stream",
     "text": [
      "painting\n"
     ]
    }
   ],
   "source": [
    "def painter():\n",
    "    print(\"painting\")\n",
    "\n",
    "painter()"
   ]
  },
  {
   "cell_type": "code",
   "execution_count": null,
   "id": "50b56fd1-16f6-4ff9-8cb4-1f85f735ff2a",
   "metadata": {},
   "outputs": [],
   "source": [
    "# Q:Create function called add(),sub(),mul(),div()\n",
    "# Get the input for a and b and insert every function then print the result"
   ]
  },
  {
   "cell_type": "code",
   "execution_count": 77,
   "id": "89804a6c-1d3f-4f36-87f6-b6e2f0cbbd29",
   "metadata": {},
   "outputs": [
    {
     "name": "stdin",
     "output_type": "stream",
     "text": [
      " 12\n",
      " 12\n"
     ]
    },
    {
     "name": "stdout",
     "output_type": "stream",
     "text": [
      "24\n"
     ]
    },
    {
     "name": "stdin",
     "output_type": "stream",
     "text": [
      " 12\n",
      " 12\n"
     ]
    },
    {
     "name": "stdout",
     "output_type": "stream",
     "text": [
      "0\n"
     ]
    },
    {
     "name": "stdin",
     "output_type": "stream",
     "text": [
      " 12\n",
      " 12\n"
     ]
    },
    {
     "name": "stdout",
     "output_type": "stream",
     "text": [
      "144\n"
     ]
    },
    {
     "name": "stdin",
     "output_type": "stream",
     "text": [
      " 12\n",
      " 12\n"
     ]
    },
    {
     "name": "stdout",
     "output_type": "stream",
     "text": [
      "1.0\n"
     ]
    }
   ],
   "source": [
    "def Add():\n",
    "    a=int(input())\n",
    "    b=int(input())\n",
    "    print(a+b)\n",
    "\n",
    "Add()\n",
    "\n",
    "def sub():\n",
    "    a=int(input())\n",
    "    b=int(input())\n",
    "    print(a-b)\n",
    "\n",
    "sub()\n",
    "\n",
    "def mul():\n",
    "    a=int(input())\n",
    "    b=int(input())\n",
    "    print(a*b)\n",
    "mul()\n",
    "\n",
    "def div():\n",
    "    a=int(input())\n",
    "    b=int(input())\n",
    "    print(a/b)\n",
    "div()\n",
    "    "
   ]
  },
  {
   "cell_type": "code",
   "execution_count": 81,
   "id": "d711b7b1-77f6-4a7b-ba75-59ef5e81bc09",
   "metadata": {},
   "outputs": [
    {
     "name": "stdout",
     "output_type": "stream",
     "text": [
      "message: I have a doubt\n"
     ]
    }
   ],
   "source": [
    "def teacher(msg):\n",
    "    print(\"message:\",msg)\n",
    "\n",
    "teacher(\"I have a doubt\")\n"
   ]
  },
  {
   "cell_type": "code",
   "execution_count": null,
   "id": "aad9f159-c90d-41eb-a53e-5bd99b78fc12",
   "metadata": {},
   "outputs": [],
   "source": []
  },
  {
   "cell_type": "code",
   "execution_count": null,
   "id": "4b91cc88-6c9a-47ed-ac06-b46f0bfc71a0",
   "metadata": {},
   "outputs": [],
   "source": []
  },
  {
   "cell_type": "code",
   "execution_count": null,
   "id": "16e8977a-1d8f-4985-a1d5-2f086a4c894d",
   "metadata": {},
   "outputs": [],
   "source": [
    "# Q: Get a integer number from user and pass it to the function called find even or odd().let the function print the even or odd."
   ]
  },
  {
   "cell_type": "code",
   "execution_count": 84,
   "id": "127b3774-221a-4873-9bb1-b0b8e07f4815",
   "metadata": {},
   "outputs": [
    {
     "name": "stdin",
     "output_type": "stream",
     "text": [
      " 24\n"
     ]
    },
    {
     "name": "stdout",
     "output_type": "stream",
     "text": [
      "EVEN\n"
     ]
    }
   ],
   "source": [
    " a=int(input())\n",
    "def findevenorodd():\n",
    "    if a%2==0:\n",
    "        print(\"EVEN\")\n",
    "\n",
    "    else:\n",
    "        print(\"ODD\")\n",
    "\n",
    "findevenorodd()\n",
    "  "
   ]
  },
  {
   "cell_type": "code",
   "execution_count": 85,
   "id": "d99b2bf1-cdb1-4db9-8831-e473d15a0f76",
   "metadata": {},
   "outputs": [
    {
     "name": "stdin",
     "output_type": "stream",
     "text": [
      " 15\n"
     ]
    },
    {
     "name": "stdout",
     "output_type": "stream",
     "text": [
      "ODD\n"
     ]
    }
   ],
   "source": [
    " a=int(input())\n",
    "def findevenorodd():\n",
    "    if a%2==0:\n",
    "        print(\"EVEN\")\n",
    "\n",
    "    else:\n",
    "        print(\"ODD\")\n",
    "\n",
    "findevenorodd()\n"
   ]
  },
  {
   "cell_type": "code",
   "execution_count": null,
   "id": "5592308f-d3b6-40f0-9f80-ee5723785588",
   "metadata": {},
   "outputs": [],
   "source": [
    "# Q: Get a integer number from user and pass it to the function called find pass or fail().let the function print the even or odd."
   ]
  },
  {
   "cell_type": "code",
   "execution_count": 87,
   "id": "cf293604-54bf-420f-bbb4-d97ce69d5e07",
   "metadata": {},
   "outputs": [
    {
     "name": "stdin",
     "output_type": "stream",
     "text": [
      " 12\n"
     ]
    },
    {
     "name": "stdout",
     "output_type": "stream",
     "text": [
      "FAIL\n"
     ]
    }
   ],
   "source": [
    "a=int(input())\n",
    "def findpassorfail():\n",
    "    if a>=35:\n",
    "        print(\"PASS\")\n",
    "    else:\n",
    "        print(\"FAIL\")\n",
    "findpassorfail()\n",
    "     "
   ]
  },
  {
   "cell_type": "code",
   "execution_count": null,
   "id": "86987ec9-c78f-4f7f-aa44-800db9b1d5cf",
   "metadata": {},
   "outputs": [],
   "source": []
  },
  {
   "cell_type": "code",
   "execution_count": null,
   "id": "04cfce64-da7a-4a48-bc37-7c97eda92030",
   "metadata": {},
   "outputs": [],
   "source": []
  },
  {
   "cell_type": "code",
   "execution_count": null,
   "id": "86d6b8c4-55aa-4b37-8f72-c487bcba605d",
   "metadata": {},
   "outputs": [],
   "source": [
    "# Q:get the input for a and b and pass it to the function called printrange(),let the function print the number from a to b"
   ]
  },
  {
   "cell_type": "code",
   "execution_count": 89,
   "id": "11b36dd9-83f5-433e-9756-6db8fb72eb5b",
   "metadata": {},
   "outputs": [
    {
     "name": "stdin",
     "output_type": "stream",
     "text": [
      " 1\n",
      " 5\n"
     ]
    },
    {
     "name": "stdout",
     "output_type": "stream",
     "text": [
      "1\n",
      "2\n",
      "3\n",
      "4\n",
      "5\n"
     ]
    }
   ],
   "source": [
    "a=int(input())\n",
    "b=int(input())\n",
    "def printrange():\n",
    "    for a in range(1,5):\n",
    "        print(a)\n",
    "    else:\n",
    "        print(b)\n",
    "\n",
    "printrange()"
   ]
  },
  {
   "cell_type": "code",
   "execution_count": null,
   "id": "bc4507f7-ecc4-4518-9d40-401b2ee72194",
   "metadata": {},
   "outputs": [],
   "source": []
  }
 ],
 "metadata": {
  "kernelspec": {
   "display_name": "Python 3 (ipykernel)",
   "language": "python",
   "name": "python3"
  },
  "language_info": {
   "codemirror_mode": {
    "name": "ipython",
    "version": 3
   },
   "file_extension": ".py",
   "mimetype": "text/x-python",
   "name": "python",
   "nbconvert_exporter": "python",
   "pygments_lexer": "ipython3",
   "version": "3.12.0"
  }
 },
 "nbformat": 4,
 "nbformat_minor": 5
}
